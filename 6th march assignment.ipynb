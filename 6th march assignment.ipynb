{
 "cells": [
  {
   "cell_type": "code",
   "execution_count": null,
   "id": "0eb28fab-7349-4ab9-a839-6d1546c8a29f",
   "metadata": {},
   "outputs": [],
   "source": [
    "Q1(Ans)\n",
    "What is Statistics in Maths?\n",
    "In Mathematics, statistics concerns the collection of data, organisation, interpretation, analysis and data presentation. \n",
    "The main purpose of using statistics is to plan the collected data in terms of experimental designs and statistical surveys. Statistics is considered a mathematical science that works with numerical data. \n",
    "In short, statistics is a crucial process which helps to make the decision based on the data."
   ]
  },
  {
   "cell_type": "code",
   "execution_count": null,
   "id": "3975b80c-6792-43ac-bf7d-4c8498ed9ead",
   "metadata": {},
   "outputs": [],
   "source": [
    "Q2(Ans)\n",
    "Statistics is mainly divided into the following two categories. \n",
    "Descriptive Statistics\n",
    "Inferential Statistics\n",
    "\n",
    "Descriptive Statistics\n",
    "In the descriptive Statistics, the Data is described in a summarized way. The summarization is done from the sample of the population using different parameters like Mean or standard deviation. Descriptive Statistics are a way of using charts, graphs, and summary measures to organize, represent, and explain a set of Data. \n",
    "Data is typically arranged and displayed in tables or graphs summarizing details such as histograms, pie charts, bars or scatter plots.\n",
    "Descriptive Statistics are just descriptive and thus do not require normalization beyond the Data collected.\n",
    "\n",
    "Inferential Statistics\n",
    "In the Inferential Statistics, we try to interpret the Meaning of descriptive Statistics. After the Data has been collected, analyzed, and summarised we use Inferential Statistics to describe the Meaning of the collected Data. \n",
    "Inferential Statistics use the probability principle to assess whether trends contained in the research sample can be generalized to the larger population from which the sample originally comes.\n",
    "Inferential Statistics are intended to test hypotheses and investigate relationships between variables and can be used to make population predictions.\n",
    "Inferential Statistics are used to draw conclusions and inferences, i.e., to make valid generalizations from samples.\n",
    "\n",
    "Example\n",
    "In a class, the Data is the set of marks obtained by 50 students. Now when we take out the Data average, the result is the average of 50 students’ marks. \n",
    "If the average marks obtained by 50 students are 88 out of 100, on the basis of the outcome, we will draw a conclusion. \n",
    "\n",
    "\n",
    "Mean, Median and Mode in Statistics\n",
    "Mean: Mean is considered the arithmetic average of a Data set that is found by adding the numbers in a set and dividing by the number of observations in the Data set. \n",
    "\n",
    "Median: The middle number in the Data set while listed in either ascending or descending order is the Median. \n",
    "\n",
    "Mode: The number that occurs the most in a Data set and ranges between the highest and lowest value is the Mode. \n"
   ]
  },
  {
   "cell_type": "code",
   "execution_count": null,
   "id": "593d0770-e1de-4637-86c4-9be6f3c1f713",
   "metadata": {},
   "outputs": [],
   "source": [
    "Q3(Ans)\n",
    "The data is classified into four categories:\n",
    "Nominal data.\n",
    "Ordinal data.\n",
    "Discrete data.\n",
    "Continuous data.\n",
    "1> NOMINAL DATA\n",
    "Nominal Data is used to label variables without any order or quantitative value.\n",
    "Example\n",
    "Colour of hair (Blonde, red, Brown, Black, etc.)\n",
    "Marital status (Single, Widowed, Married)\n",
    "Nationality (Indian, German, American)\n",
    "\n",
    "2> ORDINAL DATA\n",
    "Ordinal data have natural ordering where a number is present in some kind of order by their position on the scale. \n",
    "These data are used for observation like customer satisfaction, happiness, etc.\n",
    "Examle\n",
    "When companies ask for feedback, experience, or satisfaction on a scale of 1 to 10\n",
    "Letter grades in the exam (A, B, C, D, etc.)\n",
    "Ranking of people in a competition \n",
    "\n",
    "3> DISCRETE DATA\n",
    "The term discrete means distinct or separate. The discrete data contain the values that fall under integers or whole numbers.\n",
    "Example\n",
    "Total numbers of students present in a class\n",
    "Cost of a cell phone\n",
    "Numbers of employees in a company\n",
    "\n",
    "4> CONTINUOUS DATA\n",
    "Continuous data are in the form of fractional numbers. It can be the version of an android phone, the height of a person, the length of an object, etc. \n",
    "Continuous data represents information that can be divided into smaller levels.\n",
    "Example\n",
    "Height of a person\n",
    "Speed of a vehicle\n",
    "“Time-taken” to finish the work \n"
   ]
  },
  {
   "cell_type": "code",
   "execution_count": null,
   "id": "6ada7a9a-44a9-4b7f-960e-9930daf785ab",
   "metadata": {},
   "outputs": [],
   "source": [
    "Q4(Ans)\n",
    "(i) Grading in exam: A+, A, B+, B, C+, C, D, E---------- qualitative data type\n",
    "(ii) Colour of mangoes: yellow, green, orange, red--------- qualitative data type\n",
    "(iii) Height data of a class: [178.9, 179, 179.5, 176, 177.2, 178.3, 175.8,...]-----------quantitative data type\n",
    "(iv) Number of mangoes exported by a farm: [500, 600, 478, 672, ...]--------------quantitative data type"
   ]
  },
  {
   "cell_type": "code",
   "execution_count": null,
   "id": "3810950e-2721-49b7-b9e3-3cc9f2e70b21",
   "metadata": {},
   "outputs": [],
   "source": [
    "Q5(Ans)\n",
    "There are 4 levels of measurement:\n",
    "1.Nominal: the data can only be categorized\n",
    "Example\n",
    "City of birth\n",
    "Gender\n",
    "Ethnicity\n",
    "Car brands\n",
    "Marital statu\n",
    "\n",
    "2.Ordinal: the data can be categorized and ranked\n",
    "Exanple\n",
    "Top 5 Olympic medallists\n",
    "Language ability (e.g., beginner, intermediate, fluent)\n",
    "\n",
    "3.Interval: the data can be categorized, ranked, and evenly spaced\n",
    "Example\n",
    "Test scores (e.g., IQ or exams)\n",
    "Personality inventories\n",
    "Temperature in Fahrenheit or Celsius\n",
    "\n",
    "4.Ratio: the data can be categorized, ranked, evenly spaced, and has a natural zero.\n",
    "Example\n",
    "Height\n",
    "Age\n",
    "Weight\n",
    "Temperature in Kelvin"
   ]
  },
  {
   "cell_type": "code",
   "execution_count": null,
   "id": "637b540e-ec9a-402e-a810-67047232e0be",
   "metadata": {},
   "outputs": [],
   "source": [
    "Q6(Ans)\n",
    "First, knowing the level of measurement helps you decide how to interpret the data from that variable. \n",
    "When you know that a measure is nominal (like the one just described), then you know that the numerical values are just short codes for the longer names. \n",
    "Second, knowing the level of measurement helps you decide what statistical analysis is appropriate on the values that were assigned. \n",
    "If a measure is nominal, then you know that you would never average the data values or do a t-test on the data."
   ]
  },
  {
   "cell_type": "code",
   "execution_count": null,
   "id": "a5650957-5615-4d95-b925-d647e3a4d321",
   "metadata": {},
   "outputs": [],
   "source": [
    "Q7(Ans)\n",
    "Nominal data is a group of non-parametric variables, while Ordinal data is a group of non-parametric ordered variables. \n",
    "Although, they are both non-parametric variables, what differentiates them is the fact that ordinal data is placed into some kind of order by their position.\n",
    "\n",
    "For example, very hot, hot, cold, very cold, and warm are all nominal data when considered individually. \n",
    "But when placed on a scale and arranged in a given order (very hot, hot, warm, cold, very cold), they are regarded as ordinal data."
   ]
  },
  {
   "cell_type": "code",
   "execution_count": null,
   "id": "c093eb76-2c91-4e71-97c2-4d12880a55e8",
   "metadata": {},
   "outputs": [],
   "source": [
    "Q8(Ans)\n",
    "Histogram. If the groups depicted in a bar chart are actually continuous numeric ranges, we can push the bars together to generate a histogram. \n",
    "Bar lengths in histograms typically correspond to counts of data points, and their patterns demonstrate the distribution of variables in your data.\n"
   ]
  },
  {
   "cell_type": "code",
   "execution_count": null,
   "id": "3750c3e0-5dd3-4e1d-bbcc-6153375e21cc",
   "metadata": {},
   "outputs": [],
   "source": [
    "Q9(Ans)                 \n",
    "DESCRIPTIVE STATISTICS\n",
    "1.Descriptive Statistics is that branch of statistics which is concerned with describing the population under study.\n",
    "2.Organize, analyze and present data in a meaningful way.\n",
    "3.Form of result - Charts, Graphs and Tables\n",
    "4.Function - It explains the data, which is already known, to summarize sample.\n",
    "\n",
    "INFERENTIAL STATISTICS\n",
    "1.Inferential Statistics is a type of statistics, that focuses on drawing conclusions about the population, on the basis of sample analysis and observation.\n",
    "2.Compares, test and predicts data.\n",
    "3.Form of Result- Probability\n",
    "4.Function-It attempts to reach the conclusion to learn about the population, that extends\n",
    "5."
   ]
  },
  {
   "cell_type": "code",
   "execution_count": null,
   "id": "6627901e-75d8-40a4-bc0e-7d96d80625ee",
   "metadata": {},
   "outputs": [],
   "source": [
    "Q10(Ans)\n",
    "What is central tendancy?\n",
    "Measures of central tendency are summary statistics that represent the center point or typical value of a dataset. Examples of these measures include the mean, median, and mode. \n",
    "These statistics indicate where most values in a distribution fall and are also referred to as the central location of a distribution\n",
    "\n",
    "what is variability?\n",
    "Variability describes how far apart data points lie from each other and from the center of a distribution. \n",
    "Along with measures of central tendency, measures of variability give you descriptive statistics that summarize your data."
   ]
  }
 ],
 "metadata": {
  "kernelspec": {
   "display_name": "Python 3 (ipykernel)",
   "language": "python",
   "name": "python3"
  },
  "language_info": {
   "codemirror_mode": {
    "name": "ipython",
    "version": 3
   },
   "file_extension": ".py",
   "mimetype": "text/x-python",
   "name": "python",
   "nbconvert_exporter": "python",
   "pygments_lexer": "ipython3",
   "version": "3.10.8"
  }
 },
 "nbformat": 4,
 "nbformat_minor": 5
}
